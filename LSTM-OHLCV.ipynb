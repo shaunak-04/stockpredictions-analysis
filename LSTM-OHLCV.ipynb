{
 "cells": [
  {
   "cell_type": "markdown",
   "metadata": {},
   "source": [
    "## Stock Price Prdictions and Analysis for Information Technology Companies"
   ]
  },
  {
   "cell_type": "markdown",
   "metadata": {},
   "source": [
    "I initially chose the LSTM due to the volatile nature of the stock prices. LSTM(Long Short-Term Model) is proven to be good at predicting very volatile things due its mechanism."
   ]
  },
  {
   "cell_type": "code",
   "execution_count": 20,
   "metadata": {},
   "outputs": [],
   "source": [
    "#importing all the necessary packages\n",
    "import numpy as np\n",
    "import pandas as pd\n",
    "import matplotlib.pyplot as plt\n",
    "import seaborn as sns\n",
    "import yfinance as yf\n",
    "from sklearn.model_selection import train_test_split\n",
    "from sklearn.preprocessing import StandardScaler, MinMaxScaler\n",
    "import pandas_ta\n",
    "import tensorflow as tf\n",
    "import joblib"
   ]
  },
  {
   "cell_type": "markdown",
   "metadata": {},
   "source": [
    "# Extracting the dataset for Oracle"
   ]
  },
  {
   "cell_type": "code",
   "execution_count": 21,
   "metadata": {},
   "outputs": [
    {
     "name": "stderr",
     "output_type": "stream",
     "text": [
      "[*********************100%%**********************]  1 of 1 completed\n"
     ]
    },
    {
     "data": {
      "text/html": [
       "<div>\n",
       "<style scoped>\n",
       "    .dataframe tbody tr th:only-of-type {\n",
       "        vertical-align: middle;\n",
       "    }\n",
       "\n",
       "    .dataframe tbody tr th {\n",
       "        vertical-align: top;\n",
       "    }\n",
       "\n",
       "    .dataframe thead th {\n",
       "        text-align: right;\n",
       "    }\n",
       "</style>\n",
       "<table border=\"1\" class=\"dataframe\">\n",
       "  <thead>\n",
       "    <tr style=\"text-align: right;\">\n",
       "      <th></th>\n",
       "      <th>Open</th>\n",
       "      <th>High</th>\n",
       "      <th>Low</th>\n",
       "      <th>Close</th>\n",
       "      <th>Adj Close</th>\n",
       "      <th>Volume</th>\n",
       "    </tr>\n",
       "    <tr>\n",
       "      <th>Date</th>\n",
       "      <th></th>\n",
       "      <th></th>\n",
       "      <th></th>\n",
       "      <th></th>\n",
       "      <th></th>\n",
       "      <th></th>\n",
       "    </tr>\n",
       "  </thead>\n",
       "  <tbody>\n",
       "    <tr>\n",
       "      <th>2015-01-02</th>\n",
       "      <td>45.020000</td>\n",
       "      <td>45.189999</td>\n",
       "      <td>43.970001</td>\n",
       "      <td>44.330002</td>\n",
       "      <td>38.042271</td>\n",
       "      <td>15070200</td>\n",
       "    </tr>\n",
       "    <tr>\n",
       "      <th>2015-01-05</th>\n",
       "      <td>44.160000</td>\n",
       "      <td>44.250000</td>\n",
       "      <td>43.580002</td>\n",
       "      <td>43.590000</td>\n",
       "      <td>37.508762</td>\n",
       "      <td>18369400</td>\n",
       "    </tr>\n",
       "    <tr>\n",
       "      <th>2015-01-06</th>\n",
       "      <td>44.060001</td>\n",
       "      <td>44.180000</td>\n",
       "      <td>42.990002</td>\n",
       "      <td>43.139999</td>\n",
       "      <td>37.121536</td>\n",
       "      <td>19229500</td>\n",
       "    </tr>\n",
       "    <tr>\n",
       "      <th>2015-01-07</th>\n",
       "      <td>43.330002</td>\n",
       "      <td>43.520000</td>\n",
       "      <td>43.009998</td>\n",
       "      <td>43.150002</td>\n",
       "      <td>37.130135</td>\n",
       "      <td>13502200</td>\n",
       "    </tr>\n",
       "    <tr>\n",
       "      <th>2015-01-08</th>\n",
       "      <td>43.630001</td>\n",
       "      <td>43.939999</td>\n",
       "      <td>43.380001</td>\n",
       "      <td>43.410000</td>\n",
       "      <td>37.353870</td>\n",
       "      <td>17516900</td>\n",
       "    </tr>\n",
       "  </tbody>\n",
       "</table>\n",
       "</div>"
      ],
      "text/plain": [
       "                 Open       High        Low      Close  Adj Close    Volume\n",
       "Date                                                                       \n",
       "2015-01-02  45.020000  45.189999  43.970001  44.330002  38.042271  15070200\n",
       "2015-01-05  44.160000  44.250000  43.580002  43.590000  37.508762  18369400\n",
       "2015-01-06  44.060001  44.180000  42.990002  43.139999  37.121536  19229500\n",
       "2015-01-07  43.330002  43.520000  43.009998  43.150002  37.130135  13502200\n",
       "2015-01-08  43.630001  43.939999  43.380001  43.410000  37.353870  17516900"
      ]
     },
     "execution_count": 21,
     "metadata": {},
     "output_type": "execute_result"
    }
   ],
   "source": [
    "#importing the dataset for Oracle corporation from 2015 to the end of 2023\n",
    "ticker = 'ORCL'\n",
    "oracle_df = yf.download(ticker, start = '2015-01-01', end = '2023-12-31')\n",
    "oracle_df.head()"
   ]
  },
  {
   "cell_type": "markdown",
   "metadata": {},
   "source": [
    "# Checking the information and shape of the dataframe, and also if there are any null values which we might need to change"
   ]
  },
  {
   "cell_type": "code",
   "execution_count": 22,
   "metadata": {},
   "outputs": [
    {
     "name": "stdout",
     "output_type": "stream",
     "text": [
      "(2264, 6)\n",
      "<class 'pandas.core.frame.DataFrame'>\n",
      "DatetimeIndex: 2264 entries, 2015-01-02 to 2023-12-29\n",
      "Data columns (total 6 columns):\n",
      " #   Column     Non-Null Count  Dtype  \n",
      "---  ------     --------------  -----  \n",
      " 0   Open       2264 non-null   float64\n",
      " 1   High       2264 non-null   float64\n",
      " 2   Low        2264 non-null   float64\n",
      " 3   Close      2264 non-null   float64\n",
      " 4   Adj Close  2264 non-null   float64\n",
      " 5   Volume     2264 non-null   int64  \n",
      "dtypes: float64(5), int64(1)\n",
      "memory usage: 123.8 KB\n",
      "None\n"
     ]
    }
   ],
   "source": [
    "print(oracle_df.shape)\n",
    "print(oracle_df.info()) #to check for all the datatypes of the features"
   ]
  },
  {
   "cell_type": "code",
   "execution_count": 23,
   "metadata": {},
   "outputs": [
    {
     "name": "stdout",
     "output_type": "stream",
     "text": [
      "0\n"
     ]
    }
   ],
   "source": [
    "print(oracle_df.duplicated().sum()) #to check for any duplicate rows that might exist"
   ]
  },
  {
   "cell_type": "code",
   "execution_count": 24,
   "metadata": {},
   "outputs": [
    {
     "name": "stdout",
     "output_type": "stream",
     "text": [
      "Open         0\n",
      "High         0\n",
      "Low          0\n",
      "Close        0\n",
      "Adj Close    0\n",
      "Volume       0\n",
      "dtype: int64\n"
     ]
    }
   ],
   "source": [
    "print(oracle_df.isnull().sum()) #to check for any null values "
   ]
  },
  {
   "cell_type": "code",
   "execution_count": 25,
   "metadata": {},
   "outputs": [
    {
     "name": "stdout",
     "output_type": "stream",
     "text": [
      "              Open         High          Low        Close    Adj Close  \\\n",
      "count  2264.000000  2264.000000  2264.000000  2264.000000  2264.000000   \n",
      "mean     60.497981    61.109779    59.959792    60.536025    56.624964   \n",
      "std      21.557608    21.831025    21.307727    21.577619    22.577046   \n",
      "min      33.799999    34.230000    33.130001    33.939999    29.655428   \n",
      "25%      44.220001    44.645001    43.977500    44.317500    39.368253   \n",
      "50%      52.995001    53.424999    52.430000    52.885000    48.912897   \n",
      "75%      75.562498    76.577497    74.667503    75.810001    73.057699   \n",
      "max     127.139999   127.540001   125.150002   126.709999   125.003235   \n",
      "\n",
      "             Volume  \n",
      "count  2.264000e+03  \n",
      "mean   1.284404e+07  \n",
      "std    7.572352e+06  \n",
      "min    2.168200e+06  \n",
      "25%    8.167250e+06  \n",
      "50%    1.110380e+07  \n",
      "75%    1.520105e+07  \n",
      "max    7.913840e+07  \n"
     ]
    }
   ],
   "source": [
    "print(oracle_df.describe()) #to get the summary statistics"
   ]
  },
  {
   "cell_type": "markdown",
   "metadata": {},
   "source": [
    "# APPROACH - 2 - Using OHLCV to predict stock prices"
   ]
  },
  {
   "cell_type": "code",
   "execution_count": 26,
   "metadata": {},
   "outputs": [
    {
     "data": {
      "text/html": [
       "<div>\n",
       "<style scoped>\n",
       "    .dataframe tbody tr th:only-of-type {\n",
       "        vertical-align: middle;\n",
       "    }\n",
       "\n",
       "    .dataframe tbody tr th {\n",
       "        vertical-align: top;\n",
       "    }\n",
       "\n",
       "    .dataframe thead th {\n",
       "        text-align: right;\n",
       "    }\n",
       "</style>\n",
       "<table border=\"1\" class=\"dataframe\">\n",
       "  <thead>\n",
       "    <tr style=\"text-align: right;\">\n",
       "      <th></th>\n",
       "      <th>Open</th>\n",
       "      <th>High</th>\n",
       "      <th>Low</th>\n",
       "      <th>Close</th>\n",
       "      <th>Adj Close</th>\n",
       "      <th>Volume</th>\n",
       "    </tr>\n",
       "    <tr>\n",
       "      <th>Date</th>\n",
       "      <th></th>\n",
       "      <th></th>\n",
       "      <th></th>\n",
       "      <th></th>\n",
       "      <th></th>\n",
       "      <th></th>\n",
       "    </tr>\n",
       "  </thead>\n",
       "  <tbody>\n",
       "    <tr>\n",
       "      <th>2015-01-02</th>\n",
       "      <td>45.020000</td>\n",
       "      <td>45.189999</td>\n",
       "      <td>43.970001</td>\n",
       "      <td>44.330002</td>\n",
       "      <td>38.042271</td>\n",
       "      <td>15070200</td>\n",
       "    </tr>\n",
       "    <tr>\n",
       "      <th>2015-01-05</th>\n",
       "      <td>44.160000</td>\n",
       "      <td>44.250000</td>\n",
       "      <td>43.580002</td>\n",
       "      <td>43.590000</td>\n",
       "      <td>37.508762</td>\n",
       "      <td>18369400</td>\n",
       "    </tr>\n",
       "    <tr>\n",
       "      <th>2015-01-06</th>\n",
       "      <td>44.060001</td>\n",
       "      <td>44.180000</td>\n",
       "      <td>42.990002</td>\n",
       "      <td>43.139999</td>\n",
       "      <td>37.121536</td>\n",
       "      <td>19229500</td>\n",
       "    </tr>\n",
       "    <tr>\n",
       "      <th>2015-01-07</th>\n",
       "      <td>43.330002</td>\n",
       "      <td>43.520000</td>\n",
       "      <td>43.009998</td>\n",
       "      <td>43.150002</td>\n",
       "      <td>37.130135</td>\n",
       "      <td>13502200</td>\n",
       "    </tr>\n",
       "    <tr>\n",
       "      <th>2015-01-08</th>\n",
       "      <td>43.630001</td>\n",
       "      <td>43.939999</td>\n",
       "      <td>43.380001</td>\n",
       "      <td>43.410000</td>\n",
       "      <td>37.353870</td>\n",
       "      <td>17516900</td>\n",
       "    </tr>\n",
       "  </tbody>\n",
       "</table>\n",
       "</div>"
      ],
      "text/plain": [
       "                 Open       High        Low      Close  Adj Close    Volume\n",
       "Date                                                                       \n",
       "2015-01-02  45.020000  45.189999  43.970001  44.330002  38.042271  15070200\n",
       "2015-01-05  44.160000  44.250000  43.580002  43.590000  37.508762  18369400\n",
       "2015-01-06  44.060001  44.180000  42.990002  43.139999  37.121536  19229500\n",
       "2015-01-07  43.330002  43.520000  43.009998  43.150002  37.130135  13502200\n",
       "2015-01-08  43.630001  43.939999  43.380001  43.410000  37.353870  17516900"
      ]
     },
     "execution_count": 26,
     "metadata": {},
     "output_type": "execute_result"
    }
   ],
   "source": [
    "oracle_df.head()"
   ]
  },
  {
   "cell_type": "markdown",
   "metadata": {},
   "source": [
    "Since volume has a negative correlation, we will drop it as a feature"
   ]
  },
  {
   "cell_type": "code",
   "execution_count": 27,
   "metadata": {},
   "outputs": [],
   "source": [
    "oracle_df = oracle_df.reset_index()"
   ]
  },
  {
   "cell_type": "markdown",
   "metadata": {},
   "source": [
    "# Adding some additional features that might prove to have a correlation with the target column"
   ]
  },
  {
   "cell_type": "code",
   "execution_count": 28,
   "metadata": {},
   "outputs": [],
   "source": [
    "oracle_df['year']=oracle_df['Date'].apply(lambda x:x.year)\n",
    "oracle_df['month']=oracle_df['Date'].apply(lambda x:x.month)\n",
    "oracle_df['is_quarter_end'] = np.where(oracle_df['month']%3==0,1,0)"
   ]
  },
  {
   "cell_type": "code",
   "execution_count": 29,
   "metadata": {},
   "outputs": [
    {
     "data": {
      "text/html": [
       "<div>\n",
       "<style scoped>\n",
       "    .dataframe tbody tr th:only-of-type {\n",
       "        vertical-align: middle;\n",
       "    }\n",
       "\n",
       "    .dataframe tbody tr th {\n",
       "        vertical-align: top;\n",
       "    }\n",
       "\n",
       "    .dataframe thead th {\n",
       "        text-align: right;\n",
       "    }\n",
       "</style>\n",
       "<table border=\"1\" class=\"dataframe\">\n",
       "  <thead>\n",
       "    <tr style=\"text-align: right;\">\n",
       "      <th></th>\n",
       "      <th>Date</th>\n",
       "      <th>Open</th>\n",
       "      <th>High</th>\n",
       "      <th>Low</th>\n",
       "      <th>Close</th>\n",
       "      <th>Adj Close</th>\n",
       "      <th>Volume</th>\n",
       "      <th>year</th>\n",
       "      <th>month</th>\n",
       "      <th>is_quarter_end</th>\n",
       "      <th>target</th>\n",
       "    </tr>\n",
       "  </thead>\n",
       "  <tbody>\n",
       "    <tr>\n",
       "      <th>2258</th>\n",
       "      <td>2023-12-21</td>\n",
       "      <td>104.699997</td>\n",
       "      <td>105.930000</td>\n",
       "      <td>104.519997</td>\n",
       "      <td>105.860001</td>\n",
       "      <td>104.816238</td>\n",
       "      <td>8168000</td>\n",
       "      <td>2023</td>\n",
       "      <td>12</td>\n",
       "      <td>1</td>\n",
       "      <td>105.152885</td>\n",
       "    </tr>\n",
       "    <tr>\n",
       "      <th>2259</th>\n",
       "      <td>2023-12-22</td>\n",
       "      <td>105.699997</td>\n",
       "      <td>106.489998</td>\n",
       "      <td>105.459999</td>\n",
       "      <td>106.199997</td>\n",
       "      <td>105.152885</td>\n",
       "      <td>5678300</td>\n",
       "      <td>2023</td>\n",
       "      <td>12</td>\n",
       "      <td>1</td>\n",
       "      <td>105.142982</td>\n",
       "    </tr>\n",
       "    <tr>\n",
       "      <th>2260</th>\n",
       "      <td>2023-12-26</td>\n",
       "      <td>106.519997</td>\n",
       "      <td>106.650002</td>\n",
       "      <td>105.339996</td>\n",
       "      <td>106.190002</td>\n",
       "      <td>105.142982</td>\n",
       "      <td>5767400</td>\n",
       "      <td>2023</td>\n",
       "      <td>12</td>\n",
       "      <td>1</td>\n",
       "      <td>104.895454</td>\n",
       "    </tr>\n",
       "    <tr>\n",
       "      <th>2261</th>\n",
       "      <td>2023-12-27</td>\n",
       "      <td>106.320000</td>\n",
       "      <td>106.330002</td>\n",
       "      <td>105.559998</td>\n",
       "      <td>105.940002</td>\n",
       "      <td>104.895454</td>\n",
       "      <td>5627400</td>\n",
       "      <td>2023</td>\n",
       "      <td>12</td>\n",
       "      <td>1</td>\n",
       "      <td>105.202393</td>\n",
       "    </tr>\n",
       "    <tr>\n",
       "      <th>2262</th>\n",
       "      <td>2023-12-28</td>\n",
       "      <td>106.010002</td>\n",
       "      <td>106.610001</td>\n",
       "      <td>105.580002</td>\n",
       "      <td>106.250000</td>\n",
       "      <td>105.202393</td>\n",
       "      <td>5689100</td>\n",
       "      <td>2023</td>\n",
       "      <td>12</td>\n",
       "      <td>1</td>\n",
       "      <td>104.390488</td>\n",
       "    </tr>\n",
       "  </tbody>\n",
       "</table>\n",
       "</div>"
      ],
      "text/plain": [
       "           Date        Open        High         Low       Close   Adj Close  \\\n",
       "2258 2023-12-21  104.699997  105.930000  104.519997  105.860001  104.816238   \n",
       "2259 2023-12-22  105.699997  106.489998  105.459999  106.199997  105.152885   \n",
       "2260 2023-12-26  106.519997  106.650002  105.339996  106.190002  105.142982   \n",
       "2261 2023-12-27  106.320000  106.330002  105.559998  105.940002  104.895454   \n",
       "2262 2023-12-28  106.010002  106.610001  105.580002  106.250000  105.202393   \n",
       "\n",
       "       Volume  year  month  is_quarter_end      target  \n",
       "2258  8168000  2023     12               1  105.152885  \n",
       "2259  5678300  2023     12               1  105.142982  \n",
       "2260  5767400  2023     12               1  104.895454  \n",
       "2261  5627400  2023     12               1  105.202393  \n",
       "2262  5689100  2023     12               1  104.390488  "
      ]
     },
     "execution_count": 29,
     "metadata": {},
     "output_type": "execute_result"
    }
   ],
   "source": [
    "oracle_df['target'] = oracle_df['Adj Close'].shift(-1)\n",
    "oracle_df = oracle_df.dropna(axis=0)\n",
    "oracle_df.tail()"
   ]
  },
  {
   "cell_type": "code",
   "execution_count": 30,
   "metadata": {},
   "outputs": [
    {
     "data": {
      "text/html": [
       "<div>\n",
       "<style scoped>\n",
       "    .dataframe tbody tr th:only-of-type {\n",
       "        vertical-align: middle;\n",
       "    }\n",
       "\n",
       "    .dataframe tbody tr th {\n",
       "        vertical-align: top;\n",
       "    }\n",
       "\n",
       "    .dataframe thead th {\n",
       "        text-align: right;\n",
       "    }\n",
       "</style>\n",
       "<table border=\"1\" class=\"dataframe\">\n",
       "  <thead>\n",
       "    <tr style=\"text-align: right;\">\n",
       "      <th></th>\n",
       "      <th>Date</th>\n",
       "      <th>Open</th>\n",
       "      <th>High</th>\n",
       "      <th>Low</th>\n",
       "      <th>Close</th>\n",
       "      <th>Adj Close</th>\n",
       "      <th>Volume</th>\n",
       "      <th>year</th>\n",
       "      <th>month</th>\n",
       "      <th>is_quarter_end</th>\n",
       "      <th>target</th>\n",
       "    </tr>\n",
       "  </thead>\n",
       "  <tbody>\n",
       "    <tr>\n",
       "      <th>0</th>\n",
       "      <td>2015-01-02</td>\n",
       "      <td>45.020000</td>\n",
       "      <td>45.189999</td>\n",
       "      <td>43.970001</td>\n",
       "      <td>44.330002</td>\n",
       "      <td>38.042271</td>\n",
       "      <td>15070200</td>\n",
       "      <td>2015</td>\n",
       "      <td>1</td>\n",
       "      <td>0</td>\n",
       "      <td>37.508762</td>\n",
       "    </tr>\n",
       "    <tr>\n",
       "      <th>1</th>\n",
       "      <td>2015-01-05</td>\n",
       "      <td>44.160000</td>\n",
       "      <td>44.250000</td>\n",
       "      <td>43.580002</td>\n",
       "      <td>43.590000</td>\n",
       "      <td>37.508762</td>\n",
       "      <td>18369400</td>\n",
       "      <td>2015</td>\n",
       "      <td>1</td>\n",
       "      <td>0</td>\n",
       "      <td>37.121536</td>\n",
       "    </tr>\n",
       "    <tr>\n",
       "      <th>2</th>\n",
       "      <td>2015-01-06</td>\n",
       "      <td>44.060001</td>\n",
       "      <td>44.180000</td>\n",
       "      <td>42.990002</td>\n",
       "      <td>43.139999</td>\n",
       "      <td>37.121536</td>\n",
       "      <td>19229500</td>\n",
       "      <td>2015</td>\n",
       "      <td>1</td>\n",
       "      <td>0</td>\n",
       "      <td>37.130135</td>\n",
       "    </tr>\n",
       "    <tr>\n",
       "      <th>3</th>\n",
       "      <td>2015-01-07</td>\n",
       "      <td>43.330002</td>\n",
       "      <td>43.520000</td>\n",
       "      <td>43.009998</td>\n",
       "      <td>43.150002</td>\n",
       "      <td>37.130135</td>\n",
       "      <td>13502200</td>\n",
       "      <td>2015</td>\n",
       "      <td>1</td>\n",
       "      <td>0</td>\n",
       "      <td>37.353870</td>\n",
       "    </tr>\n",
       "    <tr>\n",
       "      <th>4</th>\n",
       "      <td>2015-01-08</td>\n",
       "      <td>43.630001</td>\n",
       "      <td>43.939999</td>\n",
       "      <td>43.380001</td>\n",
       "      <td>43.410000</td>\n",
       "      <td>37.353870</td>\n",
       "      <td>17516900</td>\n",
       "      <td>2015</td>\n",
       "      <td>1</td>\n",
       "      <td>0</td>\n",
       "      <td>37.336651</td>\n",
       "    </tr>\n",
       "  </tbody>\n",
       "</table>\n",
       "</div>"
      ],
      "text/plain": [
       "        Date       Open       High        Low      Close  Adj Close    Volume  \\\n",
       "0 2015-01-02  45.020000  45.189999  43.970001  44.330002  38.042271  15070200   \n",
       "1 2015-01-05  44.160000  44.250000  43.580002  43.590000  37.508762  18369400   \n",
       "2 2015-01-06  44.060001  44.180000  42.990002  43.139999  37.121536  19229500   \n",
       "3 2015-01-07  43.330002  43.520000  43.009998  43.150002  37.130135  13502200   \n",
       "4 2015-01-08  43.630001  43.939999  43.380001  43.410000  37.353870  17516900   \n",
       "\n",
       "   year  month  is_quarter_end     target  \n",
       "0  2015      1               0  37.508762  \n",
       "1  2015      1               0  37.121536  \n",
       "2  2015      1               0  37.130135  \n",
       "3  2015      1               0  37.353870  \n",
       "4  2015      1               0  37.336651  "
      ]
     },
     "execution_count": 30,
     "metadata": {},
     "output_type": "execute_result"
    }
   ],
   "source": [
    "oracle_df.head()"
   ]
  },
  {
   "cell_type": "code",
   "execution_count": 31,
   "metadata": {},
   "outputs": [],
   "source": [
    "oracle_df = oracle_df.set_index('Date')"
   ]
  },
  {
   "cell_type": "markdown",
   "metadata": {},
   "source": [
    "Seeing how much each feature is correlated to the target column"
   ]
  },
  {
   "cell_type": "code",
   "execution_count": 32,
   "metadata": {},
   "outputs": [
    {
     "data": {
      "text/plain": [
       "Open              0.997408\n",
       "High              0.997974\n",
       "Low               0.997702\n",
       "Close             0.998117\n",
       "Adj Close         0.998779\n",
       "Volume           -0.280813\n",
       "year              0.887919\n",
       "month             0.119758\n",
       "is_quarter_end    0.006921\n",
       "target            1.000000\n",
       "Name: target, dtype: float64"
      ]
     },
     "execution_count": 32,
     "metadata": {},
     "output_type": "execute_result"
    }
   ],
   "source": [
    "oracle_df.corr()['target']"
   ]
  },
  {
   "cell_type": "code",
   "execution_count": 33,
   "metadata": {},
   "outputs": [],
   "source": [
    "scaler = MinMaxScaler(feature_range=(0, 1))\n",
    "scaled_data = scaler.fit_transform(oracle_df)"
   ]
  },
  {
   "cell_type": "code",
   "execution_count": 34,
   "metadata": {},
   "outputs": [],
   "source": [
    "training_data_len = int(np.ceil(len(oracle_df) * .7))"
   ]
  },
  {
   "cell_type": "code",
   "execution_count": 35,
   "metadata": {},
   "outputs": [],
   "source": [
    "# Preparing the df for LSTM\n",
    "def create_dataset(dataset, time_step=1):\n",
    "    dataX, dataY = [], []\n",
    "    for i in range(len(dataset) - time_step - 1):\n",
    "        a = dataset[i:(i + time_step), :]  # Features for the past 'time_step' days\n",
    "        dataX.append(a)\n",
    "        dataY.append(dataset[i + time_step, 0])  # Predicting the price\n",
    "    return np.array(dataX), np.array(dataY)"
   ]
  },
  {
   "cell_type": "code",
   "execution_count": 36,
   "metadata": {},
   "outputs": [],
   "source": [
    "time_step = 10  # Number of past days to consider\n",
    "X, y = create_dataset(scaled_data, time_step)\n",
    "\n",
    "# Reshape input to be [samples, time steps, features]\n",
    "X = X.reshape(X.shape[0], X.shape[1], X.shape[2])"
   ]
  },
  {
   "cell_type": "code",
   "execution_count": 37,
   "metadata": {},
   "outputs": [],
   "source": [
    "X_train, X_test = X[0:training_data_len], X[training_data_len:len(X)]\n",
    "y_train, y_test = y[0:training_data_len], y[training_data_len:len(y)]"
   ]
  },
  {
   "cell_type": "code",
   "execution_count": 38,
   "metadata": {},
   "outputs": [
    {
     "name": "stderr",
     "output_type": "stream",
     "text": [
      "C:\\Users\\anshu\\AppData\\Local\\Packages\\PythonSoftwareFoundation.Python.3.11_qbz5n2kfra8p0\\LocalCache\\local-packages\\Python311\\site-packages\\keras\\src\\layers\\rnn\\rnn.py:204: UserWarning: Do not pass an `input_shape`/`input_dim` argument to a layer. When using Sequential models, prefer using an `Input(shape)` object as the first layer in the model instead.\n",
      "  super().__init__(**kwargs)\n"
     ]
    },
    {
     "name": "stdout",
     "output_type": "stream",
     "text": [
      "Epoch 1/5\n",
      "\u001b[1m1585/1585\u001b[0m \u001b[32m━━━━━━━━━━━━━━━━━━━━\u001b[0m\u001b[37m\u001b[0m \u001b[1m6s\u001b[0m 3ms/step - loss: 0.0028 - val_loss: 0.0028\n",
      "Epoch 2/5\n",
      "\u001b[1m1585/1585\u001b[0m \u001b[32m━━━━━━━━━━━━━━━━━━━━\u001b[0m\u001b[37m\u001b[0m \u001b[1m4s\u001b[0m 3ms/step - loss: 2.8687e-04 - val_loss: 0.0021\n",
      "Epoch 3/5\n",
      "\u001b[1m1585/1585\u001b[0m \u001b[32m━━━━━━━━━━━━━━━━━━━━\u001b[0m\u001b[37m\u001b[0m \u001b[1m4s\u001b[0m 3ms/step - loss: 3.0053e-04 - val_loss: 6.6330e-04\n",
      "Epoch 4/5\n",
      "\u001b[1m1585/1585\u001b[0m \u001b[32m━━━━━━━━━━━━━━━━━━━━\u001b[0m\u001b[37m\u001b[0m \u001b[1m4s\u001b[0m 3ms/step - loss: 1.3877e-04 - val_loss: 4.7499e-04\n",
      "Epoch 5/5\n",
      "\u001b[1m1585/1585\u001b[0m \u001b[32m━━━━━━━━━━━━━━━━━━━━\u001b[0m\u001b[37m\u001b[0m \u001b[1m4s\u001b[0m 2ms/step - loss: 1.4108e-04 - val_loss: 2.5226e-04\n"
     ]
    },
    {
     "data": {
      "text/plain": [
       "<keras.src.callbacks.history.History at 0x257d6137a50>"
      ]
     },
     "execution_count": 38,
     "metadata": {},
     "output_type": "execute_result"
    }
   ],
   "source": [
    "from keras.models import Sequential\n",
    "from keras.layers import Dense, LSTM\n",
    "\n",
    "# Building the LSTM model\n",
    "model = Sequential()\n",
    "model.add(LSTM(50, return_sequences=True, input_shape=(time_step, X.shape[2])))\n",
    "model.add(LSTM(50, return_sequences=False))\n",
    "model.add(Dense(25))\n",
    "model.add(Dense(1))\n",
    "model.compile(optimizer='adam', loss='mean_squared_error')\n",
    "\n",
    "# Training the model\n",
    "model.fit(X_train, y_train, batch_size=1, epochs=5, validation_data = (X_test, y_test))\n"
   ]
  },
  {
   "cell_type": "code",
   "execution_count": 39,
   "metadata": {},
   "outputs": [
    {
     "data": {
      "image/png": "[encoded data removed]",
      "text/plain": [
       "<Figure size 640x480 with 1 Axes>"
      ]
     },
     "metadata": {},
     "output_type": "display_data"
    }
   ],
   "source": [
    "# Plotting the validation and training losses\n",
    "losses=pd.DataFrame(model.history.history)\n",
    "losses.plot()\n",
    "plt.xlabel(\"Epochs\")\n",
    "plt.ylabel(\"Loss\")\n",
    "plt.show()"
   ]
  },
  {
   "cell_type": "markdown",
   "metadata": {},
   "source": [
    "Seeing the actual values of the price compared to the Predicted values of price in a graph"
   ]
  },
  {
   "cell_type": "code",
   "execution_count": 40,
   "metadata": {},
   "outputs": [
    {
     "name": "stdout",
     "output_type": "stream",
     "text": [
      "\u001b[1m50/50\u001b[0m \u001b[32m━━━━━━━━━━━━━━━━━━━━\u001b[0m\u001b[37m\u001b[0m \u001b[1m0s\u001b[0m 5ms/step\n",
      "\u001b[1m21/21\u001b[0m \u001b[32m━━━━━━━━━━━━━━━━━━━━\u001b[0m\u001b[37m\u001b[0m \u001b[1m0s\u001b[0m 1ms/step \n"
     ]
    }
   ],
   "source": [
    "# Predictions\n",
    "train_predict = model.predict(X_train)\n",
    "test_predict = model.predict(X_test)\n",
    "\n",
    "# Inverse transform predictions\n",
    "train_predict = scaler.inverse_transform(np.concatenate((train_predict, np.zeros((train_predict.shape[0], X.shape[2] - 1))), axis=1))[:, 0]\n",
    "test_predict = scaler.inverse_transform(np.concatenate((test_predict, np.zeros((test_predict.shape[0], X.shape[2] - 1))), axis=1))[:, 0]\n",
    "y_train_inv = scaler.inverse_transform(np.concatenate((y_train.reshape(-1, 1), np.zeros((y_train.shape[0], X.shape[2] - 1))), axis=1))[:, 0]\n",
    "y_test_inv = scaler.inverse_transform(np.concatenate((y_test.reshape(-1, 1), np.zeros((y_test.shape[0], X.shape[2] - 1))), axis=1))[:, 0]\n"
   ]
  },
  {
   "cell_type": "code",
   "execution_count": 41,
   "metadata": {},
   "outputs": [
    {
     "data": {
      "image/png": "[encoded data removed]",
      "text/plain": [
       "<Figure size 1600x800 with 1 Axes>"
      ]
     },
     "metadata": {},
     "output_type": "display_data"
    }
   ],
   "source": [
    "# Plotting the results\n",
    "plt.figure(figsize=(16, 8))\n",
    "plt.plot(y_train_inv, label='Actual Train Data')\n",
    "plt.plot(np.arange(len(y_train), len(y_train) + len(y_test)), y_test_inv, label='Actual Test Data')\n",
    "plt.plot(train_predict, label='Predicted Train Data')\n",
    "plt.plot(np.arange(len(y_train), len(y_train) + len(y_test)), test_predict, label='Predicted Test Data')\n",
    "plt.xlabel('Days')\n",
    "plt.ylabel('Stock Price')\n",
    "plt.legend()\n",
    "plt.show()"
   ]
  },
  {
   "cell_type": "code",
   "execution_count": 43,
   "metadata": {},
   "outputs": [],
   "source": [
    "# Calculating RMSE and MAE\n",
    "from sklearn.metrics import mean_absolute_error, mean_squared_error\n",
    "train_rmse = np.sqrt(mean_squared_error(y_train_inv, train_predict))\n",
    "test_rmse = np.sqrt(mean_squared_error(y_test_inv, test_predict))\n",
    "train_mae = mean_absolute_error(y_train_inv, train_predict)\n",
    "test_mae = mean_absolute_error(y_test_inv, test_predict)"
   ]
  },
  {
   "cell_type": "code",
   "execution_count": 44,
   "metadata": {},
   "outputs": [
    {
     "name": "stdout",
     "output_type": "stream",
     "text": [
      "Mean Absolute Error (MAE) - Second: 1.1527397567242263\n",
      "Root Mean Squared Error (RMSE) - Second: 1.482491054384828\n"
     ]
    }
   ],
   "source": [
    "# Printing RMSE and MAE\n",
    "print(f'Mean Absolute Error (MAE) - Second: {test_mae}')\n",
    "print(f'Root Mean Squared Error (RMSE) - Second: {test_rmse}')"
   ]
  },
  {
   "cell_type": "markdown",
   "metadata": {},
   "source": [
    "# Saving the model and scalar for future use"
   ]
  },
  {
   "cell_type": "code",
   "execution_count": 45,
   "metadata": {},
   "outputs": [
    {
     "name": "stderr",
     "output_type": "stream",
     "text": [
      "WARNING:absl:You are saving your model as an HDF5 file via `model.save()` or `keras.saving.save_model(model)`. This file format is considered legacy. We recommend using instead the native Keras format, e.g. `model.save('my_model.keras')` or `keras.saving.save_model(model, 'my_model.keras')`. \n"
     ]
    },
    {
     "data": {
      "text/plain": [
       "['ohlcv_scaler.pkl']"
      ]
     },
     "execution_count": 45,
     "metadata": {},
     "output_type": "execute_result"
    }
   ],
   "source": [
    "model.save('ohlcv_model.h5')\n",
    "joblib.dump(scaler, 'ohlcv_scaler.pkl')"
   ]
  }
 ],
 "metadata": {
  "kernelspec": {
   "display_name": "Python 3",
   "language": "python",
   "name": "python3"
  },
  "language_info": {
   "codemirror_mode": {
    "name": "ipython",
    "version": 3
   },
   "file_extension": ".py",
   "mimetype": "text/x-python",
   "name": "python",
   "nbconvert_exporter": "python",
   "pygments_lexer": "ipython3",
   "version": "3.11.9"
  }
 },
 "nbformat": 4,
 "nbformat_minor": 2
}
